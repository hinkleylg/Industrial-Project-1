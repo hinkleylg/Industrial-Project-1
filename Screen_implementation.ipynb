{
 "cells": [
  {
   "cell_type": "code",
   "execution_count": 1,
   "metadata": {},
   "outputs": [
    {
     "data": {
      "text/html": [
       "<style>.container { width:90% !important; }</style>"
      ],
      "text/plain": [
       "<IPython.core.display.HTML object>"
      ]
     },
     "metadata": {},
     "output_type": "display_data"
    },
    {
     "data": {
      "text/html": [
       "<style>.output_result { width:90% !important; }</style>"
      ],
      "text/plain": [
       "<IPython.core.display.HTML object>"
      ]
     },
     "metadata": {},
     "output_type": "display_data"
    },
    {
     "data": {
      "text/html": [
       " <style>.output_png { display: table-cell; text-align: center; vertical-align: middle; }</style> "
      ],
      "text/plain": [
       "<IPython.core.display.HTML object>"
      ]
     },
     "metadata": {},
     "output_type": "display_data"
    },
    {
     "data": {
      "text/html": [
       "<style> div.text_cell_render { line-height: 2.0; } </style>"
      ],
      "text/plain": [
       "<IPython.core.display.HTML object>"
      ]
     },
     "metadata": {},
     "output_type": "display_data"
    }
   ],
   "source": [
    "import numpy as np\n",
    "import math\n",
    "import matplotlib.pyplot as plt\n",
    "import matplotlib.animation\n",
    "from scipy.sparse        import diags_array\n",
    "from scipy.sparse.linalg import spsolve\n",
    "%matplotlib inline\n",
    "from IPython.display import display, HTML\n",
    "display(HTML(\"<style>.container { width:90% !important; }</style>\"))\n",
    "display(HTML(\"<style>.output_result { width:90% !important; }</style>\"))\n",
    "display(HTML(\"\"\" <style>.output_png { display: table-cell; text-align: center; vertical-align: middle; }</style> \"\"\"))\n",
    "display(HTML(\"<style> div.text_cell_render { line-height: 2.0; } </style>\"))    # Adjust linespread"
   ]
  },
  {
   "cell_type": "code",
   "execution_count": 47,
   "metadata": {},
   "outputs": [],
   "source": [
    "def plotting(U, x, t, exact_handle, D):\n",
    "    # grid spacing\n",
    "    dx = x[1] - x[0]\n",
    "\n",
    "    markers = ['x','s','d','+','o','.']\n",
    "    colours = ['xkcd:salmon','xkcd:golden rod','xkcd:teal',\n",
    "               'xkcd:purple','xkcd:slate','xkcd:silver']\n",
    "    disp_times = [1, N//20, N//10, N//5, N//2, N]\n",
    "\n",
    "    fig, ax = plt.subplots(1, 1, figsize=(12, 5))\n",
    "    ax.scatter([0], [0], color='white', label=r'Exact $u(x,t)$', lw=0)\n",
    "    for i, idx_t in enumerate(disp_times):\n",
    "        lbl = ('t = {0:.0e}'.format(t[idx_t])\n",
    "               if 0 < t[idx_t] < T else\n",
    "               't = {0:.0f}'.format(t[idx_t]))\n",
    "        ax.plot(x, exact_handle(x, t[idx_t], D(x, alpha=0.1)),\n",
    "                color=colours[i], label=lbl)\n",
    "\n",
    "    ax.scatter([0], [0], color='white',\n",
    "               label=r'Numerical $U(x,t)$', lw=0)\n",
    "    for i, idx_t in enumerate(disp_times):\n",
    "        lbl = ('t = {0:.0e}'.format(t[idx_t])\n",
    "               if 0 < t[idx_t] < T else\n",
    "               't = {0:.0f}'.format(t[idx_t]))\n",
    "        ax.plot(x[::2], U[idx_t][::2],\n",
    "                linestyle='', marker=markers[i],\n",
    "                color=colours[i], label=lbl)\n",
    "\n",
    "    ax.legend(ncols=2, loc='center',\n",
    "              bbox_to_anchor=(1.2, 0.5), title='Comparison')\n",
    "    # show full domain\n",
    "    ax.set_xlim(x.min() - dx, x.max() + dx)\n",
    "    # show a line at x = 0.25\n",
    "    ax.axvline(x=np.ceil(len(x)/2), color='gray', linestyle='--', lw=1)\n",
    "\n",
    "    plt.xlabel(\"Space (x)\")\n",
    "    plt.ylabel(\"Solution\")\n",
    "    plt.show()"
   ]
  },
  {
   "cell_type": "code",
   "execution_count": 45,
   "metadata": {},
   "outputs": [],
   "source": [
    "# --- Now we want to implement the screen ---\n",
    "\n",
    "# To do this we need to model the screen to the right and left (assuming our screen starts to the right x0)\n",
    "# On the right we replicate the toy model but with right boundary condition u_x(screen, t)=0.01 (or some small number)\n",
    "# On the left of the screen we need to solve the diffusion equation again but wiht the initial condition of x_0=0\n",
    "# and have boundary conditions of u_x(screen, t)=-0.01 such that is the negative of the right side of the screen,\n",
    "# and have a zero BC at the end of the room L\n",
    "\n",
    "# --- To investigate further ---\n",
    "\n",
    "# The use of a function of x,t as the boudnary condition at the screen\n",
    "# Implementation of advection to the model \n",
    "\n",
    "# ---- What we want to find ----\n",
    "\n",
    "# Find an optimal aplha (diffusivity consant inside screen)"
   ]
  },
  {
   "cell_type": "code",
   "execution_count": null,
   "metadata": {},
   "outputs": [
    {
     "ename": "IndexError",
     "evalue": "only integers, slices (`:`), ellipsis (`...`), numpy.newaxis (`None`) and integer or boolean arrays are valid indices",
     "output_type": "error",
     "traceback": [
      "\u001b[0;31m---------------------------------------------------------------------------\u001b[0m",
      "\u001b[0;31mIndexError\u001b[0m                                Traceback (most recent call last)",
      "Cell \u001b[0;32mIn[48], line 82\u001b[0m\n\u001b[1;32m     78\u001b[0m \u001b[38;5;66;03m# ** Iterate ** #\u001b[39;00m\n\u001b[1;32m     79\u001b[0m \u001b[38;5;28;01mfor\u001b[39;00m n \u001b[38;5;129;01min\u001b[39;00m \u001b[38;5;28mrange\u001b[39m(\u001b[38;5;241m0\u001b[39m, N):\n\u001b[1;32m     80\u001b[0m     \u001b[38;5;66;03m# Solve linear system instead of computing the inverse: computing the inverse is expensive and numerically instable \u001b[39;00m\n\u001b[1;32m     81\u001b[0m     \u001b[38;5;66;03m# SciPy has a subroutine for sparse matrices, but if you want to stick to NumPy, you can instead use: np.linalg.solve(A.toarray(),U[0])\u001b[39;00m\n\u001b[0;32m---> 82\u001b[0m     U[n\u001b[38;5;241m+\u001b[39m\u001b[38;5;241m1\u001b[39m] \u001b[38;5;241m=\u001b[39m spsolve(A, \u001b[43mD\u001b[49m\u001b[43m(\u001b[49m\u001b[43mx\u001b[49m\u001b[43m,\u001b[49m\u001b[43malpha\u001b[49m\u001b[43m \u001b[49m\u001b[38;5;241;43m=\u001b[39;49m\u001b[43m \u001b[49m\u001b[38;5;241;43m0.01\u001b[39;49m\u001b[43m)\u001b[49m \u001b[38;5;241m*\u001b[39m U[n]) \n\u001b[1;32m     83\u001b[0m     U_ex[n] \u001b[38;5;241m=\u001b[39m D(x,alpha \u001b[38;5;241m=\u001b[39m \u001b[38;5;241m0.01\u001b[39m) \u001b[38;5;241m*\u001b[39m U_exact(x,t[n], D(x, alpha \u001b[38;5;241m=\u001b[39m \u001b[38;5;241m0.01\u001b[39m))\n\u001b[1;32m     87\u001b[0m U_ex[n\u001b[38;5;241m+\u001b[39m\u001b[38;5;241m1\u001b[39m] \u001b[38;5;241m=\u001b[39m U_exact(x,t[n], D(x, alpha \u001b[38;5;241m=\u001b[39m \u001b[38;5;241m0.01\u001b[39m))\n",
      "Cell \u001b[0;32mIn[48], line 9\u001b[0m, in \u001b[0;36mD\u001b[0;34m(x, alpha)\u001b[0m\n\u001b[1;32m      7\u001b[0m \u001b[38;5;28;01mfor\u001b[39;00m i \u001b[38;5;129;01min\u001b[39;00m \u001b[38;5;28mrange\u001b[39m(\u001b[38;5;28mlen\u001b[39m(x)):\n\u001b[1;32m      8\u001b[0m     D[i] \u001b[38;5;241m=\u001b[39m D_air\n\u001b[0;32m----> 9\u001b[0m \u001b[43mD\u001b[49m\u001b[43m[\u001b[49m\u001b[43mx_screen\u001b[49m\u001b[43m]\u001b[49m \u001b[38;5;241m=\u001b[39m D_screen\n\u001b[1;32m     10\u001b[0m \u001b[38;5;28;01mreturn\u001b[39;00m D\n",
      "\u001b[0;31mIndexError\u001b[0m: only integers, slices (`:`), ellipsis (`...`), numpy.newaxis (`None`) and integer or boolean arrays are valid indices"
     ]
    }
   ],
   "source": [
    "# ** Toy Model inital contion and exact solution ** #\n",
    "def D(x, alpha):\n",
    "    D_air = 1.0\n",
    "    D_screen = alpha\n",
    "    x_screen = np.ceil(len(x)/2)\n",
    "    D = np.zeros_like(x)\n",
    "    for i in range(len(x)):\n",
    "        D[i] = D_air\n",
    "    D[x_screen] = D_screen\n",
    "    return D\n",
    "\n",
    "\n",
    "def f(x):\n",
    "    x0 = x[len(x)//2]\n",
    "    epsilon = 0.05 \n",
    "    \n",
    "    U0 = np.zeros_like(x)\n",
    "    mask = np.abs(x - x0) <= epsilon\n",
    "    U0[mask] = 1 / (2 * epsilon) \n",
    "    return U0\n",
    "\n",
    "def U_exact(x, t, D):\n",
    "    if t < 1e-10:\n",
    "        return f(x)\n",
    "    \n",
    "    u_exact = 1.0 / (2 * np.sqrt(np.pi * D * t)) * np.exp(-x**2 / (4 * D * t))\n",
    "    \n",
    "    return u_exact\n",
    "\n",
    "N = 2000      # number of timesteps\n",
    "T = 1      # final time \n",
    "t = np.linspace(1/N, T, N+1)      # Time grid\n",
    "\n",
    "M = 100    # number of spaces in x\n",
    "x = np.linspace(-2, 2, M + 1)    # Space grid\n",
    "\n",
    "dx = x[1] - x[0] \n",
    "dt = t[1] - t[0]\n",
    "\n",
    "C = dt/(dx**2)\n",
    "U = np.zeros((N+1,M+1))\n",
    "U[0] = f(x)"
   ]
  },
  {
   "cell_type": "code",
   "execution_count": null,
   "metadata": {},
   "outputs": [],
   "source": []
  }
 ],
 "metadata": {
  "kernelspec": {
   "display_name": "Python 3",
   "language": "python",
   "name": "python3"
  },
  "language_info": {
   "codemirror_mode": {
    "name": "ipython",
    "version": 3
   },
   "file_extension": ".py",
   "mimetype": "text/x-python",
   "name": "python",
   "nbconvert_exporter": "python",
   "pygments_lexer": "ipython3",
   "version": "3.11.2"
  }
 },
 "nbformat": 4,
 "nbformat_minor": 2
}
